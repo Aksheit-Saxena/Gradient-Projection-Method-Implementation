{
  "nbformat": 4,
  "nbformat_minor": 0,
  "metadata": {
    "colab": {
      "provenance": []
    },
    "kernelspec": {
      "name": "python3",
      "display_name": "Python 3"
    },
    "language_info": {
      "name": "python"
    }
  },
  "cells": [
    {
      "cell_type": "code",
      "execution_count": null,
      "metadata": {
        "id": "moVsgmk5mE41"
      },
      "outputs": [],
      "source": [
        "import numpy as np\n",
        "\n",
        "def f(x):\n",
        "    return np.sqrt(np.exp(x[0]) + np.exp(-x[1])) + np.log(np.exp(x[1]) + np.exp(x[2]))\n",
        "\n",
        "\n",
        "\n",
        "\n",
        "\n",
        "\n",
        "\n",
        "\n",
        "\n",
        "\n",
        "\n"
      ]
    },
    {
      "cell_type": "code",
      "source": [
        "def gradi(x):\n",
        "    grad = np.zeros_like(x)\n",
        "    grad[0] = 0.5 * np.exp(x[0]) / np.sqrt(np.exp(x[0]) + np.exp(-x[1]))\n",
        "    grad[1] = -0.5 * np.exp(-x[1]) / np.sqrt(np.exp(x[0]) + np.exp(-x[1])) + np.exp(x[1]) / (np.exp(x[1]) + np.exp(x[2]))\n",
        "    grad[2] = np.exp(x[2]) / (np.exp(x[1]) + np.exp(x[2]))\n",
        "    return grad\n"
      ],
      "metadata": {
        "id": "of-PAIh4naGB"
      },
      "execution_count": null,
      "outputs": []
    },
    {
      "cell_type": "code",
      "source": [
        "def constraint(y):\n",
        "    return y[0] - 2 * y[1] + 3 * y[2] - 2"
      ],
      "metadata": {
        "id": "4FYVjN7KnaOF"
      },
      "execution_count": null,
      "outputs": []
    },
    {
      "cell_type": "code",
      "source": [
        "def projection(x):\n",
        "    alpha = 0.1  \n",
        "    max_iter = 1000  \n",
        "\n",
        "    y = x.copy()\n",
        "    for _ in range(max_iter):\n",
        "        grad = 2 * (y - x) + 2 * constraint(y) * gradient(y)\n",
        "        y -= alpha * grad\n",
        "        y = np.maximum(y, 0)  \n",
        "\n",
        "    return y"
      ],
      "metadata": {
        "id": "aOvxBC1onaXN"
      },
      "execution_count": null,
      "outputs": []
    },
    {
      "cell_type": "code",
      "source": [
        "def gradient_projection_method(x0, alpha, max_iter):\n",
        "    x = x0.copy().astype(float)  \n",
        "    iterates = [x.copy()]\n",
        "    for _ in range(max_iter):\n",
        "        grad = gradi(x)\n",
        "        x -= alpha * grad.astype(float)  \n",
        "        x = projection(x)\n",
        "        iterates.append(x.copy())\n",
        "    return iterates"
      ],
      "metadata": {
        "id": "CPus6PyZnaeX"
      },
      "execution_count": null,
      "outputs": []
    },
    {
      "cell_type": "code",
      "source": [
        "x0 = np.array([3, 2, 1], dtype=float) \n",
        "alpha = 0.1\n",
        "max_iter = 5\n",
        "\n",
        "\n",
        "iterates = gradient_projection_method(x0, alpha, max_iter)\n",
        "\n",
        "for i, x in enumerate(iterates):\n",
        "    print(f\"Iteration Number {i+1}: {x}\")\n",
        "\n",
        "optimized_value = f(iterates[-1])\n",
        "print(f\"f(x*): {optimized_value}\")"
      ],
      "metadata": {
        "colab": {
          "base_uri": "https://localhost:8080/"
        },
        "id": "-O8YqiuemFlI",
        "outputId": "895eaf24-1703-451a-9f89-ce6eff401c30"
      },
      "execution_count": null,
      "outputs": [
        {
          "output_type": "stream",
          "name": "stdout",
          "text": [
            "Iteration Number 1: [3. 2. 1.]\n",
            "Iteration Number 2: [2.91246953 1.97362412 0.99040849]\n",
            "Iteration Number 3: [2.88072594 1.96389005 0.98684456]\n",
            "Iteration Number 4: [2.8690078  1.96027367 0.98551714]\n",
            "Iteration Number 5: [2.86465388 1.9589268  0.9850223 ]\n",
            "Iteration Number 6: [2.86303226 1.95842472 0.98483776]\n",
            "f(x*): 6.480719806925832\n"
          ]
        }
      ]
    },
    {
      "cell_type": "code",
      "source": [],
      "metadata": {
        "id": "ggOSjz4Hnmrr"
      },
      "execution_count": null,
      "outputs": []
    }
  ]
}